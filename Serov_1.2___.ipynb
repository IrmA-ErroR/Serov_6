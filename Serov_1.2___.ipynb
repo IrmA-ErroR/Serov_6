{
 "cells": [
  {
   "cell_type": "markdown",
   "id": "7a5249b6",
   "metadata": {},
   "source": [
    "# Контрольное домашнее задание № 1.2\n",
    "# Вариант 2"
   ]
  },
  {
   "cell_type": "code",
   "execution_count": 109,
   "id": "c84473fa",
   "metadata": {},
   "outputs": [],
   "source": [
    "import numpy as np\n",
    "import matplotlib.pyplot as plt\n",
    "from prettytable import PrettyTable"
   ]
  },
  {
   "cell_type": "code",
   "execution_count": 110,
   "id": "37fff120",
   "metadata": {},
   "outputs": [],
   "source": [
    "from prettytable import PrettyTable"
   ]
  },
  {
   "cell_type": "markdown",
   "id": "aea52d9c",
   "metadata": {},
   "source": [
    "## Задание:"
   ]
  },
  {
   "cell_type": "markdown",
   "id": "466eaf03",
   "metadata": {},
   "source": [
    "Дана многокритериальная аналитическая задача:\n",
    "\n",
    "$J_1(u) = 0.2(u_1 - 70)^2 + 0.8(u_2 - 20)^2 → min$\n",
    "\n",
    "$J_2(u) = 0.2(u_1 - 10)^2 + 0.8(u_2 - 70)^2 → min$"
   ]
  },
  {
   "cell_type": "markdown",
   "id": "5982b772",
   "metadata": {},
   "source": [
    "Множество допустимых решений D:\n",
    "    \\begin{cases}\n",
    "    0 ≤ u_1 ≤ 79 \\\\     \n",
    "    0 ≤ u_2 ≤ 79  \\\\\n",
    "\\end{cases}\n"
   ]
  },
  {
   "cell_type": "markdown",
   "id": "2f09ef62",
   "metadata": {},
   "source": [
    "## Решение:"
   ]
  },
  {
   "cell_type": "markdown",
   "id": "20cd6e5b",
   "metadata": {},
   "source": [
    "### 1. Генерируется 100 точек, равномерно распределенных на множестве D "
   ]
  },
  {
   "cell_type": "code",
   "execution_count": 111,
   "id": "9bae6075",
   "metadata": {},
   "outputs": [],
   "source": [
    "class tochka(object):\n",
    "    def __init__(self, x, y, pareto='0', omega='0'):\n",
    "        self.x = x\n",
    "        self.y = y\n",
    "        self.pareto = pareto\n",
    "        self.omega = omega"
   ]
  },
  {
   "cell_type": "code",
   "execution_count": 112,
   "id": "a5a5cc02",
   "metadata": {},
   "outputs": [],
   "source": [
    "count = 0\n",
    "number = 100\n",
    "# number = int(input(\"Введите количество точек: \"))\n",
    "\n",
    "\n",
    "dots = []\n",
    "for i in range(number):\n",
    "    dots.append(tochka(0, 0))\n",
    "\n",
    "j1, j2 = [], []"
   ]
  },
  {
   "cell_type": "code",
   "execution_count": 113,
   "id": "92d09b24",
   "metadata": {},
   "outputs": [],
   "source": [
    "# проверка на уникальность точки\n",
    "def check(x1, y1, x, y): \n",
    "    for i in range(len(x)):\n",
    "        if x1 == x[i] and y1 == y[i]:\n",
    "            return False\n",
    "    return True"
   ]
  },
  {
   "cell_type": "code",
   "execution_count": 114,
   "id": "f8c7242c",
   "metadata": {},
   "outputs": [],
   "source": [
    "# генератор случайных точек\n",
    "while count < number:\n",
    "    u1 = np.random.uniform(0, 79)\n",
    "    u2 = np.random.uniform(0, 79)\n",
    "    \n",
    "    temp1 = 0.2 * (u1 - 70)**2 + 0.8 * (u2 - 20)**2\n",
    "    temp2 = 0.2 * (u1 - 10)**2 + 0.8 * (u2 - 70)**2\n",
    "    \n",
    "    if check(temp1, temp2, j1,j2):\n",
    "            j1.append(temp1)\n",
    "            j2.append(temp2)                   \n",
    "            count = count + 1\n",
    "#             print(count, '-', u1, u2)\n"
   ]
  },
  {
   "cell_type": "code",
   "execution_count": 115,
   "id": "bf2a34e1",
   "metadata": {},
   "outputs": [],
   "source": [
    "for i in range(number):\n",
    "    dots[i].x = round(j1[i], 3)\n",
    "    dots[i].y = round(j2[i], 3)\n",
    "#     print(i, '-', dots[i].x, dots[i].y)\n",
    "    "
   ]
  },
  {
   "cell_type": "code",
   "execution_count": 116,
   "id": "7dc52dba",
   "metadata": {},
   "outputs": [
    {
     "data": {
      "text/plain": [
       "Text(0, 0.5, 'J2')"
      ]
     },
     "execution_count": 116,
     "metadata": {},
     "output_type": "execute_result"
    },
    {
     "data": {
      "image/png": "[encoded data removed]",
      "text/plain": [
       "<Figure size 640x480 with 1 Axes>"
      ]
     },
     "metadata": {},
     "output_type": "display_data"
    }
   ],
   "source": [
    "# визуализация\n",
    "for i in range(number):\n",
    "    plt.plot(dots[i].x, dots[i].y, '.', color='grey')\n",
    "\n",
    "plt.grid()\n",
    "plt.xlabel('J1')\n",
    "plt.ylabel('J2')"
   ]
  },
  {
   "cell_type": "markdown",
   "id": "4c517611",
   "metadata": {},
   "source": [
    "### 2. Строится множество Парето-оптимальных решений"
   ]
  },
  {
   "cell_type": "code",
   "execution_count": 117,
   "id": "248198dd",
   "metadata": {},
   "outputs": [],
   "source": [
    "def pareto_optimum():\n",
    "     for i in range(number):\n",
    "        for j in range(number):\n",
    "            if ((dots[i].x >= dots[j].x) and (dots[i].y > dots[j].y)) or ((dots[i].x > dots[j].x) and (dots[i].y >= dots[j].y)):\n",
    "                dots[i].pareto = '1'\n",
    "    "
   ]
  },
  {
   "cell_type": "markdown",
   "id": "977270a7",
   "metadata": {},
   "source": [
    "Статус '1' присваивается НЕ Парето-оптимальным решениям"
   ]
  },
  {
   "cell_type": "code",
   "execution_count": 118,
   "id": "7fe05717",
   "metadata": {},
   "outputs": [],
   "source": [
    "pareto_optimum()"
   ]
  },
  {
   "cell_type": "code",
   "execution_count": 119,
   "id": "6ee330ea",
   "metadata": {},
   "outputs": [
    {
     "name": "stdout",
     "output_type": "stream",
     "text": [
      "Всего Парето-оптимальных точек - 22\n",
      "+----+----------+----------+\n",
      "| id |    f1    |    f2    |\n",
      "+----+----------+----------+\n",
      "| 5  | 1337.955 | 243.596  |\n",
      "| 6  | 672.438  | 689.815  |\n",
      "| 7  | 2124.177 |  56.751  |\n",
      "| 11 | 2342.632 |  56.257  |\n",
      "| 13 | 291.824  | 1305.606 |\n",
      "| 14 | 2359.365 |  24.642  |\n",
      "| 16 | 1747.796 | 111.529  |\n",
      "| 19 | 389.105  | 1060.243 |\n",
      "| 21 | 1964.819 |  71.927  |\n",
      "| 22 | 1600.345 | 148.694  |\n",
      "| 25 | 1635.025 | 141.552  |\n",
      "| 32 | 636.508  |  803.13  |\n",
      "| 35 |  2.863   | 2850.73  |\n",
      "| 40 | 194.073  | 1473.986 |\n",
      "| 42 | 986.978  | 440.292  |\n",
      "| 47 | 1025.064 | 407.655  |\n",
      "| 50 |  61.24   | 1986.615 |\n",
      "| 68 | 1150.542 | 363.827  |\n",
      "| 72 | 1905.376 |  91.78   |\n",
      "| 75 |  9.196   | 2413.445 |\n",
      "| 82 | 716.829  | 665.064  |\n",
      "| 84 | 579.005  | 840.372  |\n",
      "+----+----------+----------+\n"
     ]
    }
   ],
   "source": [
    "pt1 = PrettyTable()\n",
    "count = 0\n",
    "pt1.field_names=['id', 'f1', 'f2']\n",
    "for i in range(number):\n",
    "    if dots[i].pareto == '0':\n",
    "        pt1.add_row([i + 1, dots[i].x, dots[i].y])\n",
    "        count += 1\n",
    "print('Всего Парето-оптимальных точек -', count)\n",
    "print(pt1)"
   ]
  },
  {
   "cell_type": "code",
   "execution_count": 120,
   "id": "bb7a5438",
   "metadata": {},
   "outputs": [],
   "source": [
    "def pareto_show():\n",
    "       \n",
    "    for i in range(number):\n",
    "        if dots[i].pareto == '0':\n",
    "            plt.plot(dots[i].x, dots[i].y, '.', color='black')\n",
    "        else:\n",
    "            plt.plot(dots[i].x, dots[i].y, '.', color='gray')\n",
    "        \n",
    "        if number <= 20:\n",
    "            plt.text(dots[i].x + 0.1, dots[i].y + 0.1, i + 1)\n",
    "    \n",
    "    plt.grid(True)\n",
    "    plt.xlabel('J1')\n",
    "    plt.ylabel('J2')\n",
    "    plt.suptitle('Graf')\n",
    "\n",
    "    plt.show()"
   ]
  },
  {
   "cell_type": "code",
   "execution_count": 121,
   "id": "a04bf0e4",
   "metadata": {},
   "outputs": [
    {
     "data": {
      "image/png": "[encoded data removed]",
      "text/plain": [
       "<Figure size 640x480 with 1 Axes>"
      ]
     },
     "metadata": {},
     "output_type": "display_data"
    }
   ],
   "source": [
    "pareto_show()"
   ]
  },
  {
   "cell_type": "markdown",
   "id": "bdd85a0e",
   "metadata": {},
   "source": [
    "### 3. На множестве Парето выделяется множество Ω-оптимальных решений. "
   ]
  },
  {
   "cell_type": "code",
   "execution_count": 122,
   "id": "23b7205f",
   "metadata": {},
   "outputs": [],
   "source": [
    "def gray_code(n):\n",
    "    '''\n",
    "    Функция для вычисления кода Грея для заданного числа\n",
    "    '''\n",
    "    if n == 1:\n",
    "        return ['0', '1']\n",
    "    else:\n",
    "        prev = gray_code(n-1)\n",
    "        return ['0' + x for x in prev] + ['1' + x for x in reversed(prev)]"
   ]
  },
  {
   "cell_type": "code",
   "execution_count": 123,
   "id": "db34c274",
   "metadata": {},
   "outputs": [],
   "source": [
    "n = 2\n",
    "# n = int(input('Введите размерность пространства: '))\n",
    "g_code = gray_code(n)"
   ]
  },
  {
   "cell_type": "code",
   "execution_count": 124,
   "id": "1ff31adc",
   "metadata": {},
   "outputs": [
    {
     "data": {
      "text/plain": [
       "['00', '01', '11', '10']"
      ]
     },
     "execution_count": 124,
     "metadata": {},
     "output_type": "execute_result"
    }
   ],
   "source": [
    "g_code"
   ]
  },
  {
   "cell_type": "markdown",
   "id": "10aea468",
   "metadata": {},
   "source": [
    "Ввод весовых коэффициентов"
   ]
  },
  {
   "cell_type": "code",
   "execution_count": 125,
   "id": "74e02c56",
   "metadata": {},
   "outputs": [],
   "source": [
    "# list_v = []\n",
    "# for i in range(n):\n",
    "#     print(i+1)\n",
    "#     list_v.append([float(input('Введите min:')), float(input('Введите max:'))])\n"
   ]
  },
  {
   "cell_type": "code",
   "execution_count": 126,
   "id": "c229cabe",
   "metadata": {},
   "outputs": [
    {
     "data": {
      "text/plain": [
       "[[0.3, 0.6], [0.4, 0.7]]"
      ]
     },
     "execution_count": 126,
     "metadata": {},
     "output_type": "execute_result"
    }
   ],
   "source": [
    "list_v = [[0.3, 0.6], [0.4, 0.7]]\n",
    "list_v"
   ]
  },
  {
   "cell_type": "code",
   "execution_count": 127,
   "id": "e68efdf0",
   "metadata": {},
   "outputs": [],
   "source": [
    "def make_mu_matrix(grey_code_matrix):\n",
    "    '''\n",
    "    Функция сопоставляет каждой вершине код Грея\n",
    "    '''\n",
    "    mu_matrix = []\n",
    "    for i in range(len(grey_code_matrix)):\n",
    "        row=[]\n",
    "        for j in range(len(grey_code_matrix[i])):\n",
    "            row.append(None)\n",
    "        mu_matrix.append(row)\n",
    "\n",
    "    for i in range(len(grey_code_matrix)):\n",
    "        if grey_code_matrix[i][0] == '0':\n",
    "            mu_matrix[i][0] = list_v[0][0]\n",
    "        else:\n",
    "            mu_matrix[i][0] = list_v[0][1]\n",
    "\n",
    "        if grey_code_matrix[i][1] == '0':\n",
    "            mu_matrix[i][1] = list_v[1][0]\n",
    "        else:\n",
    "            mu_matrix[i][1] = list_v[1][1]\n",
    "\n",
    "    return mu_matrix\n",
    "\n"
   ]
  },
  {
   "cell_type": "code",
   "execution_count": 128,
   "id": "c80a6fd7",
   "metadata": {},
   "outputs": [
    {
     "data": {
      "text/plain": [
       "[[0.3, 0.4], [0.3, 0.7], [0.6, 0.7], [0.6, 0.4]]"
      ]
     },
     "execution_count": 128,
     "metadata": {},
     "output_type": "execute_result"
    }
   ],
   "source": [
    "make_mu_matrix(g_code)\n"
   ]
  },
  {
   "cell_type": "code",
   "execution_count": 129,
   "id": "ad98a5fc",
   "metadata": {},
   "outputs": [],
   "source": [
    "def find_points():\n",
    "    '''\n",
    "    Функция точки пересечения прямой y = x-1 и ребер\n",
    "    '''\n",
    "    mu_matrix = make_mu_matrix(g_code)\n",
    "    B = []\n",
    "    for i in range(len(mu_matrix) - 1):\n",
    "        L_mu = (mu_matrix[i][0] + mu_matrix[i][1] - 1) * (mu_matrix[i+1][0] + mu_matrix[i+1][1] - 1)\n",
    "        if(L_mu <= 0):\n",
    "            if(mu_matrix[i][0] == mu_matrix[i+1][0]):\n",
    "                x = mu_matrix[i][0]\n",
    "                y = round(-x+1,5)\n",
    "                B.append((x, y))\n",
    "            elif(mu_matrix[i][1] == mu_matrix[i+1][1]):\n",
    "                y = mu_matrix[i][1]\n",
    "                x = round(-y+1,5)\n",
    "                B.append((x, y))\n",
    "\n",
    "    last_el_index = len(mu_matrix) - 1\n",
    "    L_mu = (mu_matrix[last_el_index][0] + mu_matrix[last_el_index][1] - 1) * (mu_matrix[0][0] + mu_matrix[0][1] - 1)\n",
    "    if (L_mu <= 0):\n",
    "        if (mu_matrix[last_el_index][0] == mu_matrix[0][0]):\n",
    "            x = mu_matrix[last_el_index][0]\n",
    "            y = round(-x + 1, 5)\n",
    "            B.append((x, y))\n",
    "        elif (mu_matrix[last_el_index][1] == mu_matrix[0][1]):\n",
    "            y = mu_matrix[last_el_index][1]\n",
    "            x = round(-y + 1, 5)\n",
    "            B.append((x, y))\n",
    "\n",
    "    B = list(dict.fromkeys(B))\n",
    "    return(B)"
   ]
  },
  {
   "cell_type": "code",
   "execution_count": 130,
   "id": "eb52f326",
   "metadata": {},
   "outputs": [
    {
     "data": {
      "text/plain": [
       "[(0.3, 0.7), (0.6, 0.4)]"
      ]
     },
     "execution_count": 130,
     "metadata": {},
     "output_type": "execute_result"
    }
   ],
   "source": [
    "# B = [[0.3, 0.7], [0.4, 0.6]]\n",
    "B = find_points()\n",
    "B"
   ]
  },
  {
   "cell_type": "code",
   "execution_count": 131,
   "id": "3d84dc64",
   "metadata": {},
   "outputs": [],
   "source": [
    "def omega_optimum():\n",
    "    for i in range(number):\n",
    "        for j in range(number):\n",
    "            if j != i and dots[j].pareto == '0':\n",
    "                k1 = B[0][0] * (j1[i] - j1[j]) + B[1][0] * (j2[i] - j2[j])\n",
    "                k2 = B[0][1] * (j1[i] - j1[j]) + B[1][1] * (j2[i] - j2[j])\n",
    "                if k1 <= 0 and k2 <= 0 and k1 != k2:\n",
    "                    dots[j].omega = '1'\n",
    "\n"
   ]
  },
  {
   "cell_type": "markdown",
   "id": "bc5af1db",
   "metadata": {},
   "source": [
    "Статус '-1' присваивается НЕ Омега-оптимальным точкам, эти точки выбираются и множества Парето-оптимальных точек"
   ]
  },
  {
   "cell_type": "code",
   "execution_count": 132,
   "id": "558091be",
   "metadata": {},
   "outputs": [],
   "source": [
    "omega_optimum()"
   ]
  },
  {
   "cell_type": "code",
   "execution_count": 133,
   "id": "44bdcbe3",
   "metadata": {},
   "outputs": [
    {
     "name": "stdout",
     "output_type": "stream",
     "text": [
      "Всего Омега-оптимальных точек - 7\n",
      "+----+----------+----------+\n",
      "| id |    f1    |    f2    |\n",
      "+----+----------+----------+\n",
      "| 5  | 1337.955 | 243.596  |\n",
      "| 6  | 672.438  | 689.815  |\n",
      "| 19 | 389.105  | 1060.243 |\n",
      "| 42 | 986.978  | 440.292  |\n",
      "| 47 | 1025.064 | 407.655  |\n",
      "| 82 | 716.829  | 665.064  |\n",
      "| 84 | 579.005  | 840.372  |\n",
      "+----+----------+----------+\n"
     ]
    }
   ],
   "source": [
    "pt2 = PrettyTable()\n",
    "count = 0\n",
    "pt2.field_names=['id', 'f1', 'f2']\n",
    "for i in range(number):\n",
    "    if dots[i].pareto == '0' and dots[i].omega == '0':\n",
    "        pt2.add_row([i + 1, dots[i].x, dots[i].y])\n",
    "        count += 1\n",
    "print('Всего Омега-оптимальных точек -', count)\n",
    "print(pt2)"
   ]
  },
  {
   "cell_type": "code",
   "execution_count": 134,
   "id": "2699f43d",
   "metadata": {},
   "outputs": [],
   "source": [
    "def omega_show():       \n",
    "    for i in range(number):\n",
    "        if dots[i].pareto == '0' and dots[i].omega == '1':\n",
    "            plt.plot(dots[i].x, dots[i].y, '.', color='black')\n",
    "        elif dots[i].pareto == '0' and dots[i].omega == '0':\n",
    "            plt.plot(dots[i].x, dots[i].y, 'o', color='red')\n",
    "        else:\n",
    "            plt.plot(dots[i].x, dots[i].y, '.', color='grey')\n",
    "        \n",
    "        if number <= 20:\n",
    "            plt.text(dots[i].x + 0.1, dots[i].y + 0.1, i + 1)\n",
    "    \n",
    "    \n",
    "    \n",
    "    plt.grid(True)\n",
    "    plt.xlabel('J1')\n",
    "    plt.ylabel('J2')\n",
    "    plt.suptitle('Graf')\n",
    "\n",
    "    plt.show()"
   ]
  },
  {
   "cell_type": "code",
   "execution_count": 135,
   "id": "c8125b15",
   "metadata": {},
   "outputs": [
    {
     "data": {
      "image/png": "[encoded data removed]",
      "text/plain": [
       "<Figure size 640x480 with 1 Axes>"
      ]
     },
     "metadata": {},
     "output_type": "display_data"
    }
   ],
   "source": [
    "omega_show()"
   ]
  },
  {
   "cell_type": "markdown",
   "id": "966b65c4",
   "metadata": {},
   "source": [
    "# Done!"
   ]
  }
 ],
 "metadata": {
  "kernelspec": {
   "display_name": "Python 3 (ipykernel)",
   "language": "python",
   "name": "python3"
  },
  "language_info": {
   "codemirror_mode": {
    "name": "ipython",
    "version": 3
   },
   "file_extension": ".py",
   "mimetype": "text/x-python",
   "name": "python",
   "nbconvert_exporter": "python",
   "pygments_lexer": "ipython3",
   "version": "3.9.13"
  }
 },
 "nbformat": 4,
 "nbformat_minor": 5
}
